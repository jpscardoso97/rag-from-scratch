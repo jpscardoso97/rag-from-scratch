{
 "cells": [
  {
   "cell_type": "code",
   "execution_count": 2,
   "metadata": {},
   "outputs": [
    {
     "name": "stdout",
     "output_type": "stream",
     "text": [
      "Generated 54 chunks from a total of 5303 words\n"
     ]
    }
   ],
   "source": [
    "import json\n",
    "\n",
    "# load file\n",
    "with open('../data/mengai.txt', 'r') as file:\n",
    "    data = file.read().replace('\\n', ' ')\n",
    "\n",
    "# split into words\n",
    "words = data.split(' ')\n",
    "\n",
    "# chunk into 100 word chunks with 25 word overlap\n",
    "obj = {\n",
    "    \"chunks\": []\n",
    "}\n",
    "\n",
    "for i in range(0, len(words), 100):\n",
    "    str_chunk = \"\"\n",
    "    for i in words[i:i+125]:\n",
    "        str_chunk += i + \" \"\n",
    "    obj[\"chunks\"].append(str_chunk)\n",
    "\n",
    "print(f'Generated {len(obj[\"chunks\"])} chunks from a total of {len(words)} words')\n",
    "\n",
    "# save chunks to file\n",
    "with open('../data/chunks.json', 'w') as file:\n",
    "    json.dump(obj, file)\n"
   ]
  }
 ],
 "metadata": {
  "kernelspec": {
   "display_name": "base",
   "language": "python",
   "name": "python3"
  },
  "language_info": {
   "codemirror_mode": {
    "name": "ipython",
    "version": 3
   },
   "file_extension": ".py",
   "mimetype": "text/x-python",
   "name": "python",
   "nbconvert_exporter": "python",
   "pygments_lexer": "ipython3",
   "version": "3.11.6"
  }
 },
 "nbformat": 4,
 "nbformat_minor": 2
}
