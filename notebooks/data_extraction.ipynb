{
 "cells": [
  {
   "cell_type": "code",
   "execution_count": 15,
   "metadata": {},
   "outputs": [],
   "source": [
    "import requests\n",
    "from bs4 import BeautifulSoup\n",
    "import json\n",
    "import re\n",
    "\n",
    "data = \"\"\n",
    "\n",
    "# Scrape all content text from https://ai.meng.duke.edu/degree\n",
    "page = requests.get(\"https://ai.meng.duke.edu/degree\")\n",
    "soup = BeautifulSoup(page.content, 'html.parser')\n",
    "degree = soup.find('div', id='content-body')\n",
    "data = degree.get_text()\n",
    "\n",
    "# Scrape data from https://ai.meng.duke.edu/courses\n",
    "page = requests.get(\"https://ai.meng.duke.edu/courses\")\n",
    "soup = BeautifulSoup(page.content, 'html.parser')\n",
    "course = soup.find('div', id='content-body')\n",
    "data += course.get_text()\n",
    "\n",
    "# replace double newlines with single newline\n",
    "data = re.sub(r'\\n\\n', '\\n', data)\n",
    "\n",
    "# Save data to a file\n",
    "with open('../data/mengai.txt', 'w') as f:\n",
    "    f.write(data)\n"
   ]
  }
 ],
 "metadata": {
  "kernelspec": {
   "display_name": "base",
   "language": "python",
   "name": "python3"
  },
  "language_info": {
   "codemirror_mode": {
    "name": "ipython",
    "version": 3
   },
   "file_extension": ".py",
   "mimetype": "text/x-python",
   "name": "python",
   "nbconvert_exporter": "python",
   "pygments_lexer": "ipython3",
   "version": "3.11.6"
  }
 },
 "nbformat": 4,
 "nbformat_minor": 2
}
