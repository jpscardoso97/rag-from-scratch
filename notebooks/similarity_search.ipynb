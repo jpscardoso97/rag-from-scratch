{
 "cells": [
  {
   "cell_type": "code",
   "execution_count": 19,
   "metadata": {},
   "outputs": [
    {
     "name": "stderr",
     "output_type": "stream",
     "text": [
      "/Users/jc/anaconda3/envs/ml-env/lib/python3.11/site-packages/torch/_utils.py:776: UserWarning: TypedStorage is deprecated. It will be removed in the future and UntypedStorage will be the only storage class. This should only matter to you if you are using storages directly.  To access UntypedStorage directly, use tensor.untyped_storage() instead of tensor.storage()\n",
      "  return self.fget.__get__(instance, owner)()\n"
     ]
    },
    {
     "name": "stdout",
     "output_type": "stream",
     "text": [
      "covers 20 percent of the costs. Eligibility and other conditions apply. Curriculum Schedules The core of the curriculum follows a cohort-based course sequence On-Campus Accelerated Option: 12 Months  Summer Fall Spring Summer  Pre-requisiteAIPI 503: Python & Data Science Math Bootcamp AIPI 510: Sourcing Data for Analytics MENG 540: Management of High-tech Industries AIPI 560: Legal, Societal & Ethical Implications of AI    AIPI 520: Modeling Process & Algorithms AIPI 540: Deep Learning Applications AIPI 561: Operationalizing AI (MLOps)  AIPI Departmental Elective AIPI 549: Industry Capstone Project Industry Internship or Project  MENG 570: Business Fundamentals for Engineers Technical Elective 1     AIPI 501: Industry Seminar Series Technical Elective 2  EGR 590: Career Strategy & Design    On-Campus Standard \n"
     ]
    }
   ],
   "source": [
    "import json\n",
    "import numpy as np\n",
    "import pandas as pd\n",
    "import sqlite3\n",
    "\n",
    "from sentence_transformers import SentenceTransformer\n",
    "from sklearn.metrics.pairwise import cosine_similarity\n",
    "from sklearn.preprocessing import normalize\n",
    "\n",
    "db = sqlite3.connect('../data/db.sqlite')\n",
    "\n",
    "model = SentenceTransformer('sentence-transformers/all-MiniLM-L6-v2')\n",
    "\n",
    "input = \"What are the courses?\"\n",
    "\n",
    "emb_input = model.encode(input)\n",
    "\n",
    "# Get all rows from embeddings table\n",
    "df = pd.read_sql_query(\"SELECT * from embeddings\", db)\n",
    "\n",
    "df['embedding'] = df['embedding'].apply(lambda x: json.loads(x))\n",
    "\n",
    "# Find the most similar embedding\n",
    "cosine_sim = cosine_similarity(np.array([emb_input]), np.vstack(df['embedding'].apply(lambda x: np.array(x))))\n",
    "most_similar = df.iloc[np.argmax(cosine_sim)]\n",
    "\n",
    "print(most_similar['original'])\n"
   ]
  }
 ],
 "metadata": {
  "kernelspec": {
   "display_name": "ml-env",
   "language": "python",
   "name": "python3"
  },
  "language_info": {
   "codemirror_mode": {
    "name": "ipython",
    "version": 3
   },
   "file_extension": ".py",
   "mimetype": "text/x-python",
   "name": "python",
   "nbconvert_exporter": "python",
   "pygments_lexer": "ipython3",
   "version": "3.11.7"
  }
 },
 "nbformat": 4,
 "nbformat_minor": 2
}
