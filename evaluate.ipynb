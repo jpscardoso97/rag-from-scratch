{
 "cells": [
  {
   "cell_type": "code",
   "execution_count": 23,
   "metadata": {},
   "outputs": [
    {
     "name": "stdout",
     "output_type": "stream",
     "text": [
      "[{'role': 'assistant', 'content': 'How can I help you?'}, {'role': 'user', 'content': 'We will talk about the MEng in AI at Duke'}]\n",
      "Ok, the Master of Engineering in Artificial Intelligence program at Duke University offers opportunities for students to pursue advanced studies in AI. You can ask me about the courses, the tuition and admission requirements for example.\n",
      "[{'role': 'assistant', 'content': 'How can I help you?'}, {'role': 'user', 'content': 'How much is the tuition?'}]\n",
      "Tuition for campus-based Duke Master of Engineering programs for the 2023-2024 academic year is $31,760 per semester taken at the university. Tuition for the Master of Engineering in AI over two semesters and a summer session would result in a total tuition cost of $73,048.\n",
      "[{'role': 'assistant', 'content': 'How can I help you?'}, {'role': 'user', 'content': \"What's the duration of the program?\"}]\n",
      "The normal duration of the Master of Engineering in AI program is one year of study (2 semesters and a summer session); however, the program can be extended for an additional Fall semester to complete in 16 months.\n",
      "[{'role': 'assistant', 'content': 'How can I help you?'}, {'role': 'user', 'content': 'What are the courses offered in the program?'}]\n",
      "AIPI 510: Sourcing Data for Analytics, AIPI 520: Modeling Process & Algorithms, AIPI 540: Deep Learning Applications,AIPI 561: Operationalizing AI (MLOps), AIPI 549: Industry Capstone Project, MENG 570: Business Fundamentals for Engineers, AIPI 501: Industry Seminar Series, EGR 590: Career Strategy & Design and there are also other technical electives to choose from.\n",
      "[{'role': 'assistant', 'content': 'How can I help you?'}, {'role': 'user', 'content': 'What are some of the goals of the program?'}]\n",
      "This degree's core curriculum was developed in collaboration with the industry. Build a personal portfolio of real-world, hands-on AI and machine-learning projects. Receive individual advising, academic and career, from outstanding, world-class faculty. Be engaged with peers from around the world as part of a small, intimate, and immersive cohort. Our curriculum covers the theory and application of AI and machine learning, heavily emphasizing hands-on learning via real-world problems and projects in each course. Students also have two opportunities to work directly with industry leaders during the program: through the semester-long industry project and their summer internship.\n"
     ]
    }
   ],
   "source": [
    "import pandas as pd\n",
    "import os\n",
    "\n",
    "from inference import Inference\n",
    "from rouge_score import rouge_scorer\n",
    "\n",
    "initial_message = {\"role\": \"assistant\", \"content\": \"How can I help you?\"}\n",
    "\n",
    "inf = Inference()\n",
    "test_inputs = [\n",
    "    [initial_message, {\"role\": \"user\", \"content\": \"We will talk about the MEng in AI at Duke\"}],\n",
    "    [initial_message, {\"role\": \"user\", \"content\": \"How much is the tuition?\"}],\n",
    "    [initial_message, {\"role\": \"user\", \"content\": \"What's the duration of the program?\"}],\n",
    "    [initial_message, {\"role\": \"user\", \"content\": \"What are the courses offered in the program?\"}],\n",
    "    [initial_message, {\"role\": \"user\", \"content\": \"What are some of the goals of the program?\"}],\n",
    "]\n",
    "\n",
    "expected_outputs = [\n",
    "    \"Ok, the Master of Engineering in Artificial Intelligence program at Duke University offers opportunities for students to pursue advanced studies in AI. You can ask me about the courses, the tuition and admission requirements for example.\",\n",
    "    \"Tuition for campus-based Duke Master of Engineering programs for the 2023-2024 academic year is $31,760 per semester taken at the university. Tuition for the Master of Engineering in AI over two semesters and a summer session would result in a total tuition cost of $73,048.\",\n",
    "    \"The normal duration of the Master of Engineering in AI program is one year of study (2 semesters and a summer session); however, the program can be extended for an additional Fall semester to complete in 16 months.\",\n",
    "    \"AIPI 510: Sourcing Data for Analytics, AIPI 520: Modeling Process & Algorithms, AIPI 540: Deep Learning Applications,AIPI 561: Operationalizing AI (MLOps), AIPI 549: Industry Capstone Project, MENG 570: Business Fundamentals for Engineers, AIPI 501: Industry Seminar Series, EGR 590: Career Strategy & Design and there are also other technical electives to choose from.\",\n",
    "    \"This degree's core curriculum was developed in collaboration with the industry. Build a personal portfolio of real-world, hands-on AI and machine-learning projects. Receive individual advising, academic and career, from outstanding, world-class faculty. Be engaged with peers from around the world as part of a small, intimate, and immersive cohort. Our curriculum covers the theory and application of AI and machine learning, heavily emphasizing hands-on learning via real-world problems and projects in each course. Students also have two opportunities to work directly with industry leaders during the program: through the semester-long industry project and their summer internship.\"\n",
    "]\n",
    "\n",
    "scorer = rouge_scorer.RougeScorer(['rouge1'], use_stemmer=True)\n",
    "\n",
    "scores_rag = []\n",
    "scores_norag = []\n",
    "\n",
    "for q in range(len(test_inputs)):\n",
    "    print(test_inputs[q])\n",
    "    print(expected_outputs[q])\n",
    "\n",
    "for q in range(len(test_inputs)):\n",
    "    pred_rag = inf.generate_response(True, test_inputs[q])\n",
    "    pred_norag = inf.generate_response(False, test_inputs[q])\n",
    "    scores_rag.append(scorer.score(pred_rag, expected_outputs[q]))\n",
    "    scores_norag.append(scorer.score(pred_norag, expected_outputs[q]))\n",
    "    # wait 1 minute to avoid openai rate limit\n",
    "    os.system(\"sleep 60\")\n"
   ]
  },
  {
   "cell_type": "code",
   "execution_count": 27,
   "metadata": {},
   "outputs": [
    {
     "name": "stdout",
     "output_type": "stream",
     "text": [
      "RAG Scores\n"
     ]
    },
    {
     "data": {
      "text/html": [
       "<div>\n",
       "<style scoped>\n",
       "    .dataframe tbody tr th:only-of-type {\n",
       "        vertical-align: middle;\n",
       "    }\n",
       "\n",
       "    .dataframe tbody tr th {\n",
       "        vertical-align: top;\n",
       "    }\n",
       "\n",
       "    .dataframe thead th {\n",
       "        text-align: right;\n",
       "    }\n",
       "</style>\n",
       "<table border=\"1\" class=\"dataframe\">\n",
       "  <thead>\n",
       "    <tr style=\"text-align: right;\">\n",
       "      <th></th>\n",
       "      <th>precision</th>\n",
       "      <th>recall</th>\n",
       "      <th>fmeasure</th>\n",
       "    </tr>\n",
       "  </thead>\n",
       "  <tbody>\n",
       "    <tr>\n",
       "      <th>0</th>\n",
       "      <td>0.250000</td>\n",
       "      <td>0.428571</td>\n",
       "      <td>0.315789</td>\n",
       "    </tr>\n",
       "    <tr>\n",
       "      <th>1</th>\n",
       "      <td>0.632653</td>\n",
       "      <td>0.563636</td>\n",
       "      <td>0.596154</td>\n",
       "    </tr>\n",
       "    <tr>\n",
       "      <th>2</th>\n",
       "      <td>0.263158</td>\n",
       "      <td>0.312500</td>\n",
       "      <td>0.285714</td>\n",
       "    </tr>\n",
       "    <tr>\n",
       "      <th>3</th>\n",
       "      <td>0.019231</td>\n",
       "      <td>0.071429</td>\n",
       "      <td>0.030303</td>\n",
       "    </tr>\n",
       "    <tr>\n",
       "      <th>4</th>\n",
       "      <td>0.346154</td>\n",
       "      <td>0.288000</td>\n",
       "      <td>0.314410</td>\n",
       "    </tr>\n",
       "  </tbody>\n",
       "</table>\n",
       "</div>"
      ],
      "text/plain": [
       "   precision    recall  fmeasure\n",
       "0   0.250000  0.428571  0.315789\n",
       "1   0.632653  0.563636  0.596154\n",
       "2   0.263158  0.312500  0.285714\n",
       "3   0.019231  0.071429  0.030303\n",
       "4   0.346154  0.288000  0.314410"
      ]
     },
     "metadata": {},
     "output_type": "display_data"
    },
    {
     "name": "stdout",
     "output_type": "stream",
     "text": [
      "No RAG Scores\n"
     ]
    },
    {
     "data": {
      "text/html": [
       "<div>\n",
       "<style scoped>\n",
       "    .dataframe tbody tr th:only-of-type {\n",
       "        vertical-align: middle;\n",
       "    }\n",
       "\n",
       "    .dataframe tbody tr th {\n",
       "        vertical-align: top;\n",
       "    }\n",
       "\n",
       "    .dataframe thead th {\n",
       "        text-align: right;\n",
       "    }\n",
       "</style>\n",
       "<table border=\"1\" class=\"dataframe\">\n",
       "  <thead>\n",
       "    <tr style=\"text-align: right;\">\n",
       "      <th></th>\n",
       "      <th>precision</th>\n",
       "      <th>recall</th>\n",
       "      <th>fmeasure</th>\n",
       "    </tr>\n",
       "  </thead>\n",
       "  <tbody>\n",
       "    <tr>\n",
       "      <th>0</th>\n",
       "      <td>0.750000</td>\n",
       "      <td>0.077586</td>\n",
       "      <td>0.140625</td>\n",
       "    </tr>\n",
       "    <tr>\n",
       "      <th>1</th>\n",
       "      <td>0.244898</td>\n",
       "      <td>0.164384</td>\n",
       "      <td>0.196721</td>\n",
       "    </tr>\n",
       "    <tr>\n",
       "      <th>2</th>\n",
       "      <td>0.052632</td>\n",
       "      <td>0.200000</td>\n",
       "      <td>0.083333</td>\n",
       "    </tr>\n",
       "    <tr>\n",
       "      <th>3</th>\n",
       "      <td>0.019231</td>\n",
       "      <td>0.037037</td>\n",
       "      <td>0.025316</td>\n",
       "    </tr>\n",
       "    <tr>\n",
       "      <th>4</th>\n",
       "      <td>0.278846</td>\n",
       "      <td>0.149485</td>\n",
       "      <td>0.194631</td>\n",
       "    </tr>\n",
       "  </tbody>\n",
       "</table>\n",
       "</div>"
      ],
      "text/plain": [
       "   precision    recall  fmeasure\n",
       "0   0.750000  0.077586  0.140625\n",
       "1   0.244898  0.164384  0.196721\n",
       "2   0.052632  0.200000  0.083333\n",
       "3   0.019231  0.037037  0.025316\n",
       "4   0.278846  0.149485  0.194631"
      ]
     },
     "metadata": {},
     "output_type": "display_data"
    }
   ],
   "source": [
    "rag_scores_df = pd.DataFrame({'precision': [score[\"rouge1\"].precision for score in scores_rag], 'recall': [score[\"rouge1\"].recall for score in scores_rag], 'fmeasure': [score[\"rouge1\"].fmeasure for score in scores_rag]})\n",
    "no_rag_scores_df = pd.DataFrame({'precision': [score[\"rouge1\"].precision for score in scores_norag], 'recall': [score[\"rouge1\"].recall for score in scores_norag], 'fmeasure': [score[\"rouge1\"].fmeasure for score in scores_norag]})\n",
    "\n",
    "print(\"RAG Scores\")\n",
    "display(rag_scores_df)\n",
    "\n",
    "print(\"No RAG Scores\")\n",
    "display(no_rag_scores_df)"
   ]
  },
  {
   "cell_type": "code",
   "execution_count": 29,
   "metadata": {},
   "outputs": [
    {
     "data": {
      "text/html": [
       "<div>\n",
       "<style scoped>\n",
       "    .dataframe tbody tr th:only-of-type {\n",
       "        vertical-align: middle;\n",
       "    }\n",
       "\n",
       "    .dataframe tbody tr th {\n",
       "        vertical-align: top;\n",
       "    }\n",
       "\n",
       "    .dataframe thead th {\n",
       "        text-align: right;\n",
       "    }\n",
       "</style>\n",
       "<table border=\"1\" class=\"dataframe\">\n",
       "  <thead>\n",
       "    <tr style=\"text-align: right;\">\n",
       "      <th></th>\n",
       "      <th>RAG</th>\n",
       "      <th>No RAG</th>\n",
       "    </tr>\n",
       "  </thead>\n",
       "  <tbody>\n",
       "    <tr>\n",
       "      <th>precision</th>\n",
       "      <td>0.302239</td>\n",
       "      <td>0.269121</td>\n",
       "    </tr>\n",
       "    <tr>\n",
       "      <th>recall</th>\n",
       "      <td>0.332827</td>\n",
       "      <td>0.125698</td>\n",
       "    </tr>\n",
       "    <tr>\n",
       "      <th>fmeasure</th>\n",
       "      <td>0.308474</td>\n",
       "      <td>0.128125</td>\n",
       "    </tr>\n",
       "  </tbody>\n",
       "</table>\n",
       "</div>"
      ],
      "text/plain": [
       "                RAG    No RAG\n",
       "precision  0.302239  0.269121\n",
       "recall     0.332827  0.125698\n",
       "fmeasure   0.308474  0.128125"
      ]
     },
     "metadata": {},
     "output_type": "display_data"
    }
   ],
   "source": [
    "# create new data frame with aggregated scores one row for each model (RAG and No RAG)\n",
    "aggregated_scores = pd.DataFrame({\n",
    "    \"RAG\": [rag_scores_df.precision.mean(), rag_scores_df.recall.mean(), rag_scores_df.fmeasure.mean()],\n",
    "    \"No RAG\": [no_rag_scores_df.precision.mean(), no_rag_scores_df.recall.mean(), no_rag_scores_df.fmeasure.mean()]\n",
    "}, index=[\"precision\", \"recall\", \"fmeasure\"])\n",
    "\n",
    "display(aggregated_scores)"
   ]
  }
 ],
 "metadata": {
  "kernelspec": {
   "display_name": "base",
   "language": "python",
   "name": "python3"
  },
  "language_info": {
   "codemirror_mode": {
    "name": "ipython",
    "version": 3
   },
   "file_extension": ".py",
   "mimetype": "text/x-python",
   "name": "python",
   "nbconvert_exporter": "python",
   "pygments_lexer": "ipython3",
   "version": "3.11.6"
  }
 },
 "nbformat": 4,
 "nbformat_minor": 2
}
